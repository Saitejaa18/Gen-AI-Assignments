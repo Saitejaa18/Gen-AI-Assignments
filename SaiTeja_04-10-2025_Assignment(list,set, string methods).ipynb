{
 "cells": [
  {
   "cell_type": "markdown",
   "id": "10ec943e-cf35-46f1-9da4-12f8323f1b9a",
   "metadata": {},
   "source": [
    "List Methods in python:"
   ]
  },
  {
   "cell_type": "markdown",
   "id": "30fe7dea-8311-4243-b326-b92d320c8bf0",
   "metadata": {},
   "source": [
    "Extend method:Add elements from another list (or iterable) to the end"
   ]
  },
  {
   "cell_type": "code",
   "execution_count": 1,
   "id": "82aa47e9-8d8a-4be9-a70c-b11f6de11a41",
   "metadata": {},
   "outputs": [
    {
     "name": "stdout",
     "output_type": "stream",
     "text": [
      "[1, 2, 3, 4, 5]\n"
     ]
    }
   ],
   "source": [
    "a = [1, 2, 3]\n",
    "a.extend([4, 5])\n",
    "print(a)"
   ]
  },
  {
   "cell_type": "markdown",
   "id": "a28b03d9-b039-4971-aa79-2279d57dffe8",
   "metadata": {},
   "source": [
    "Index Method:Returns the first position of a given value"
   ]
  },
  {
   "cell_type": "code",
   "execution_count": 2,
   "id": "cf837044-4da5-468d-804d-2b429f55e568",
   "metadata": {},
   "outputs": [
    {
     "name": "stdout",
     "output_type": "stream",
     "text": [
      "0\n"
     ]
    }
   ],
   "source": [
    "fruits = [\"apple\", \"banana\", \"mango\", \"orange\"]\n",
    "print(fruits.index(\"apple\"))\n"
   ]
  },
  {
   "cell_type": "code",
   "execution_count": 9,
   "id": "c68ab7e0-b7bd-488f-a8b3-4fdd000cfb9b",
   "metadata": {},
   "outputs": [
    {
     "name": "stdout",
     "output_type": "stream",
     "text": [
      "3\n"
     ]
    }
   ],
   "source": [
    "fruits = [\"apple\", \"banana\", \"mango\", \"orange\"]\n",
    "print(fruits.index(\"orange\"))\n"
   ]
  },
  {
   "cell_type": "markdown",
   "id": "d951b780-faa3-4664-9ce5-43287f4ab952",
   "metadata": {},
   "source": [
    "Count Method:Returns the first position of a given value"
   ]
  },
  {
   "cell_type": "code",
   "execution_count": 11,
   "id": "a64e2aa7-a680-407a-a089-6010a84e0918",
   "metadata": {},
   "outputs": [
    {
     "name": "stdout",
     "output_type": "stream",
     "text": [
      "3\n"
     ]
    }
   ],
   "source": [
    "nums = [1, 2, 2, 3, 2, 4]\n",
    "print(nums.count(2))\n"
   ]
  },
  {
   "cell_type": "markdown",
   "id": "b84ed88d-43c2-4589-84cd-682ddb554bdd",
   "metadata": {},
   "source": [
    "Sort Method:Sorts the list in ascending/descending order."
   ]
  },
  {
   "cell_type": "code",
   "execution_count": 4,
   "id": "2a6948db-bad3-49fc-b122-87d54865a186",
   "metadata": {},
   "outputs": [
    {
     "name": "stdout",
     "output_type": "stream",
     "text": [
      "[1, 2, 3, 4]\n"
     ]
    }
   ],
   "source": [
    "nums = [4, 1, 3, 2]\n",
    "nums.sort()\n",
    "print(nums)\n"
   ]
  },
  {
   "cell_type": "markdown",
   "id": "8337b27b-4a34-43ce-aa6b-7ff5ac995b4a",
   "metadata": {},
   "source": [
    "Copy Method:Returns a shallow copy of the list."
   ]
  },
  {
   "cell_type": "code",
   "execution_count": 5,
   "id": "03f2e965-bd9b-4a4c-b351-9b6488c78bcc",
   "metadata": {},
   "outputs": [
    {
     "name": "stdout",
     "output_type": "stream",
     "text": [
      "[1, 2, 3]\n"
     ]
    }
   ],
   "source": [
    "a = [1, 2, 3]\n",
    "b = a.copy()\n",
    "print(b)\n"
   ]
  },
  {
   "cell_type": "markdown",
   "id": "c6de45c2-857e-4623-8cbd-15e1a1d59372",
   "metadata": {},
   "source": [
    "Clear Method:Removes all elements from the list."
   ]
  },
  {
   "cell_type": "code",
   "execution_count": 6,
   "id": "544a99ea-3f67-45b0-a28c-2c5eeb92abe7",
   "metadata": {},
   "outputs": [
    {
     "name": "stdout",
     "output_type": "stream",
     "text": [
      "[]\n"
     ]
    }
   ],
   "source": [
    "a = [1, 2, 3]\n",
    "a.clear()\n",
    "print(a) "
   ]
  },
  {
   "cell_type": "markdown",
   "id": "c0257686-29a7-40d6-bbe5-7a975b56265d",
   "metadata": {},
   "source": [
    "Sum Method: Add all numbers in the list."
   ]
  },
  {
   "cell_type": "code",
   "execution_count": 12,
   "id": "6b0954eb-b2fc-4206-87c7-b8d798d6ce9b",
   "metadata": {},
   "outputs": [
    {
     "name": "stdout",
     "output_type": "stream",
     "text": [
      "10\n"
     ]
    }
   ],
   "source": [
    "nums = [1, 2, 3, 4]\n",
    "print(sum(nums))  # 10\n"
   ]
  },
  {
   "cell_type": "markdown",
   "id": "ff085630-0740-439b-a1b4-145a32b68bdd",
   "metadata": {},
   "source": [
    "Length method: Returns number of elements in the list."
   ]
  },
  {
   "cell_type": "code",
   "execution_count": 13,
   "id": "00e3aea3-6e52-4454-af7a-88abab654624",
   "metadata": {},
   "outputs": [
    {
     "name": "stdout",
     "output_type": "stream",
     "text": [
      "8\n"
     ]
    }
   ],
   "source": [
    "fruits = [\"apple\", \"banana\", \"mango\",1,2,3,5,4]\n",
    "print(len(fruits))\n"
   ]
  },
  {
   "cell_type": "markdown",
   "id": "de456d99-1937-4b92-b767-5d5493d2d02f",
   "metadata": {},
   "source": [
    "Delete Method:Delete list items by index."
   ]
  },
  {
   "cell_type": "code",
   "execution_count": 14,
   "id": "e6b61ac8-1bf3-4848-a09a-2f14d1d996a9",
   "metadata": {},
   "outputs": [
    {
     "name": "stdout",
     "output_type": "stream",
     "text": [
      "[1, 2, 4]\n"
     ]
    }
   ],
   "source": [
    "nums = [1, 2, 3, 4]\n",
    "del nums[2]\n",
    "print(nums)\n"
   ]
  },
  {
   "cell_type": "markdown",
   "id": "b5dfc688-3df9-4e36-8c28-3721e384b359",
   "metadata": {},
   "source": [
    "Minimum and maximum method:"
   ]
  },
  {
   "cell_type": "code",
   "execution_count": 16,
   "id": "7da53fd9-93ca-4233-945f-3baacf330e9d",
   "metadata": {},
   "outputs": [
    {
     "name": "stdout",
     "output_type": "stream",
     "text": [
      "46\n",
      "2\n"
     ]
    }
   ],
   "source": [
    "nums = [10, 20, 2, 46]\n",
    "print(max(nums))\n",
    "print(min(nums)) \n"
   ]
  },
  {
   "cell_type": "markdown",
   "id": "f5e2b64b-bc41-4091-a49f-12adaabb6495",
   "metadata": {},
   "source": [
    "Sets"
   ]
  },
  {
   "cell_type": "markdown",
   "id": "914f5440-2f56-4e4f-90bc-1d2d8ceadf28",
   "metadata": {},
   "source": [
    "Union:Combines all unique elements from both sets."
   ]
  },
  {
   "cell_type": "code",
   "execution_count": 17,
   "id": "ee3a3e1d-685d-4a29-9f15-2caf9616f738",
   "metadata": {},
   "outputs": [
    {
     "name": "stdout",
     "output_type": "stream",
     "text": [
      "{1, 2, 3, 4, 5}\n"
     ]
    }
   ],
   "source": [
    "a = {1, 2, 3}\n",
    "b = {3, 4, 5}\n",
    "print(a.union(b))"
   ]
  },
  {
   "cell_type": "markdown",
   "id": "785f2eb3-616f-45cc-bd91-a843fbeff9bb",
   "metadata": {},
   "source": [
    "Intersection:Common elements in both sets."
   ]
  },
  {
   "cell_type": "code",
   "execution_count": 18,
   "id": "e291aafa-37c9-4feb-a934-b8c6bb5b6808",
   "metadata": {},
   "outputs": [
    {
     "name": "stdout",
     "output_type": "stream",
     "text": [
      "{3}\n"
     ]
    }
   ],
   "source": [
    "print(a.intersection(b))\n"
   ]
  },
  {
   "cell_type": "markdown",
   "id": "8ff510f9-2329-4f8f-8cda-9ee20c2db240",
   "metadata": {},
   "source": [
    "Difference:Elements in one set but not in the other."
   ]
  },
  {
   "cell_type": "code",
   "execution_count": 19,
   "id": "4782b047-2668-4b0f-80bf-8b727fe3f441",
   "metadata": {},
   "outputs": [
    {
     "name": "stdout",
     "output_type": "stream",
     "text": [
      "{1, 2}\n",
      "{4, 5}\n"
     ]
    }
   ],
   "source": [
    "print(a.difference(b))\n",
    "print(b.difference(a))\n"
   ]
  },
  {
   "cell_type": "markdown",
   "id": "205ad0de-ad96-4d22-98a7-d47113ef539b",
   "metadata": {},
   "source": [
    "String Methods in Python"
   ]
  },
  {
   "cell_type": "markdown",
   "id": "d43a2e5e-36c7-4e42-9d61-b4027599af92",
   "metadata": {},
   "source": [
    "Upper Method: Which it change the string to uppercase"
   ]
  },
  {
   "cell_type": "code",
   "execution_count": 1,
   "id": "f3432109-49a5-4a89-aae0-a01e9c10c725",
   "metadata": {},
   "outputs": [
    {
     "name": "stdout",
     "output_type": "stream",
     "text": [
      "HELLO WORLD\n"
     ]
    }
   ],
   "source": [
    "text = \"hello world\"\n",
    "print(text.upper()) "
   ]
  },
  {
   "cell_type": "markdown",
   "id": "4cf45c2d-8106-4ac9-8b09-1231af699b6c",
   "metadata": {},
   "source": [
    "lower method:"
   ]
  },
  {
   "cell_type": "code",
   "execution_count": 2,
   "id": "2e484ed4-8e04-429f-a539-dda780c088e1",
   "metadata": {},
   "outputs": [
    {
     "name": "stdout",
     "output_type": "stream",
     "text": [
      "hello world\n"
     ]
    }
   ],
   "source": [
    "print(text.lower())"
   ]
  },
  {
   "cell_type": "markdown",
   "id": "51af8f57-2d2e-4a4d-8e60-fe73b178602b",
   "metadata": {},
   "source": [
    "Title Method: It capitalise the First letter of every word"
   ]
  },
  {
   "cell_type": "code",
   "execution_count": 3,
   "id": "2070d460-fd3c-4882-8ebc-aa3e91c6bda6",
   "metadata": {},
   "outputs": [
    {
     "name": "stdout",
     "output_type": "stream",
     "text": [
      "Hello World\n"
     ]
    }
   ],
   "source": [
    "print(text.title())"
   ]
  },
  {
   "cell_type": "markdown",
   "id": "452cf6fe-875c-4a15-91af-9609cad269a1",
   "metadata": {},
   "source": [
    "Capital Method:It Captial the first letter."
   ]
  },
  {
   "cell_type": "code",
   "execution_count": 5,
   "id": "b421c867-52ba-47d7-8d72-b32da5293325",
   "metadata": {},
   "outputs": [
    {
     "name": "stdout",
     "output_type": "stream",
     "text": [
      "Hello world\n"
     ]
    }
   ],
   "source": [
    "print(text.capitalize())"
   ]
  },
  {
   "cell_type": "markdown",
   "id": "1e7ed5e9-0120-4f2d-b1a7-cf4c7bfe91ae",
   "metadata": {},
   "source": [
    "Replace Method:Replace the word with another word/letter"
   ]
  },
  {
   "cell_type": "code",
   "execution_count": 6,
   "id": "a346b142-3d7f-4ad1-947b-1d947947cc02",
   "metadata": {},
   "outputs": [
    {
     "name": "stdout",
     "output_type": "stream",
     "text": [
      "I love Python\n"
     ]
    }
   ],
   "source": [
    "text = \"I love Java\"\n",
    "print(text.replace(\"Java\", \"Python\"))"
   ]
  },
  {
   "cell_type": "markdown",
   "id": "cc046928-aff6-4f32-8058-8242890bc862",
   "metadata": {},
   "source": [
    "Split Method:Split into a list"
   ]
  },
  {
   "cell_type": "code",
   "execution_count": 7,
   "id": "8dfd2133-e08e-46c3-bf36-32386b85d8df",
   "metadata": {},
   "outputs": [
    {
     "name": "stdout",
     "output_type": "stream",
     "text": [
      "['apple', 'banana', 'mango']\n"
     ]
    }
   ],
   "source": [
    "text = \"apple,banana,mango\"\n",
    "print(text.split(\",\"))"
   ]
  },
  {
   "cell_type": "markdown",
   "id": "94226bc7-2219-404a-b8ce-f5e819be913e",
   "metadata": {},
   "source": [
    "Join Method: Join list into a string"
   ]
  },
  {
   "cell_type": "code",
   "execution_count": 15,
   "id": "39693c39-9d68-41d7-8a3d-aa617f7b5771",
   "metadata": {},
   "outputs": [
    {
     "name": "stdout",
     "output_type": "stream",
     "text": [
      "I love India\n"
     ]
    }
   ],
   "source": [
    "words = [\"I\", \"love\", \"India\"]\n",
    "print(\" \".join(words)) \n"
   ]
  },
  {
   "cell_type": "markdown",
   "id": "9f7baa99-feec-4a0f-a3aa-3e0dd1a29454",
   "metadata": {},
   "source": [
    "Count Method: Count the letters occurances in a word."
   ]
  },
  {
   "cell_type": "code",
   "execution_count": 20,
   "id": "2a134e68-1da9-489d-8591-e711d239513d",
   "metadata": {},
   "outputs": [
    {
     "name": "stdout",
     "output_type": "stream",
     "text": [
      "1\n"
     ]
    }
   ],
   "source": [
    "text = \"Maggie\"\n",
    "print(text.count(\"gg\"))\n"
   ]
  },
  {
   "cell_type": "markdown",
   "id": "7064dfd9-7f3f-4aac-a96c-d568fe24e1b6",
   "metadata": {},
   "source": [
    "Swap case Method:It swaps the Upper case word to lower case and lower case to upper case"
   ]
  },
  {
   "cell_type": "code",
   "execution_count": 21,
   "id": "59427522-a7cf-48fd-8176-15fa80da424e",
   "metadata": {},
   "outputs": [
    {
     "name": "stdout",
     "output_type": "stream",
     "text": [
      "sAI tEJA\n"
     ]
    }
   ],
   "source": [
    "text = \"Sai Teja\"\n",
    "print(text.swapcase()) "
   ]
  }
 ],
 "metadata": {
  "kernelspec": {
   "display_name": "Python [conda env:base] *",
   "language": "python",
   "name": "conda-base-py"
  },
  "language_info": {
   "codemirror_mode": {
    "name": "ipython",
    "version": 3
   },
   "file_extension": ".py",
   "mimetype": "text/x-python",
   "name": "python",
   "nbconvert_exporter": "python",
   "pygments_lexer": "ipython3",
   "version": "3.13.5"
  }
 },
 "nbformat": 4,
 "nbformat_minor": 5
}
